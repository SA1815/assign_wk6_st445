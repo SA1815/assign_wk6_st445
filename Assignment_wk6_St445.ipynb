{
 "cells": [
  {
   "cell_type": "markdown",
   "metadata": {},
   "source": [
    "Question 3\n",
    "--\n",
    "a) Import the file Sorting.csv into a Pandas DataFrame. Sort the data using the first two columns as indices (that is, in the end the dataframe should be sorted by the first column and for equal entries in the first column, by the second column). You may wish to rename the dataset columns A, B and C for convenience. Reset the index and remove the original index (such that the sorted data frame is indexed by increasing row numbers). Print your result.\n",
    "\n",
    "b) Randomly shuffle the dataset and print your result with a reset index.\n",
    "\n",
    "c) Write some code that imports the data below to create a numpy array. Order it into ascending order using argsort using the first column as an index."
   ]
  },
  {
   "cell_type": "code",
   "execution_count": 48,
   "metadata": {},
   "outputs": [
    {
     "data": {
      "text/plain": [
       "array([-8.342, -2.   ,  1.   ,  3.482,  4.   ,  5.982,  6.825,  7.   ,\n",
       "        8.284, 10.   ])"
      ]
     },
     "execution_count": 48,
     "metadata": {},
     "output_type": "execute_result"
    }
   ],
   "source": [
    "import pandas as pd\n",
    "import random\n",
    "import numpy as np\n",
    "\n",
    "#a) importing the file and sorting it according to first and second column\n",
    "data = pd.read_csv(\"Sorting.csv\")\n",
    "data.columns = [\"A\", \"B\", \"C\"]\n",
    "sorted_data = data.sort_values([\"A\", \"B\"])\n",
    "\n",
    "sorted_data.index = range(len(data.index))\n",
    "sorted_data\n",
    "\n",
    "#b) randonly shuffling the table and then again reseting the index\n",
    "sorted_data.sample(frac = 1).reset_index(drop = True)\n",
    "\n",
    "#c)imporing the data.txt file, cleaning it, converting into numpy array and sorting it.\n",
    "for line in open('data.txt'):\n",
    "    line = line.strip('\"').replace('\\\\n', ',').split(',')\n",
    "    #floatlist = [x.replace('\\\\t', '') for x in line]\n",
    "    floatlist = [float(x) for x in line]\n",
    "    \n",
    "my_array = np.array(floatlist)\n",
    "my_array = np.sort(my_array)\n",
    "my_array"
   ]
  }
 ],
 "metadata": {
  "kernelspec": {
   "display_name": "Python 3",
   "language": "python",
   "name": "python3"
  },
  "language_info": {
   "codemirror_mode": {
    "name": "ipython",
    "version": 3
   },
   "file_extension": ".py",
   "mimetype": "text/x-python",
   "name": "python",
   "nbconvert_exporter": "python",
   "pygments_lexer": "ipython3",
   "version": "3.6.5"
  }
 },
 "nbformat": 4,
 "nbformat_minor": 2
}
